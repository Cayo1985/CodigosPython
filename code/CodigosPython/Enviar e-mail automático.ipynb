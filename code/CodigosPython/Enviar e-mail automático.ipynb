{
 "cells": [
  {
   "cell_type": "code",
   "execution_count": null,
   "metadata": {
    "scrolled": true
   },
   "outputs": [],
   "source": [
    "import pandas as pd\n",
    "\n",
    "clientes_df = pd.read_excel(#O caminho do arquivo de banco dde dados ou excel)\n",
    "display(clientes_df)"
   ]
  },
  {
   "cell_type": "code",
   "execution_count": null,
   "metadata": {},
   "outputs": [],
   "source": [
    "import smtplib\n",
    "from email.mime.multipart import MIMEMultipart\n",
    "from email.mime.text import MIMEText\n",
    "from email.mime.base import MIMEBase\n",
    "from email import encoders\n",
    "\n",
    "def enviar_email():\n",
    "    for i, email in enumerate(clientes_df['E-MAIL']):\n",
    "        variavel = clientes_df.loc[i, #coluna do arquivo]\n",
    "        corpo_email = '''Digite o corpo do e-mail aqui\n",
    "\n",
    "        \n",
    "        '''.format(variavel)\n",
    "\n",
    "        msg = MIMEMultipart()\n",
    "        msg['Subject'] = #coloque o assunto do e-mail\n",
    "        msg['From'] = #seu e-mail\n",
    "        msg['to'] = email\n",
    "        password = # senha do e-mail \n",
    "        msg.attach(MIMEText(corpo_email, 'plain'))\n",
    "\n",
    "        documento = #caminho onde está o arquivo\n",
    "        \n",
    "        binary_documento = open(documento, 'rb')\n",
    "        payload = MIMEBase('application', 'pdf', Name = #nome do arquivo)\n",
    "        payload.set_payload((binary_documento.read()))\n",
    "\n",
    "        encoders.encode_base64(payload)\n",
    "        payload.add_header('Content-Decomposition', 'attachment', filename = documento)\n",
    "        msg.attach(payload)\n",
    "\n",
    "        s = smtplib.SMTP('smtp-mail.outlook.com: 587')                          \n",
    "        s.starttls()\n",
    "        s.login(msg['From'], password)\n",
    "        s.sendmail(msg['From'], [msg['To']], msg.as_string().encode('utf-8'))\n",
    "        s.quit()\n",
    "        print('E-mail enviado')"
   ]
  },
  {
   "cell_type": "code",
   "execution_count": null,
   "metadata": {
    "scrolled": false
   },
   "outputs": [],
   "source": [
    "enviar_email()"
   ]
  },
  {
   "cell_type": "code",
   "execution_count": null,
   "metadata": {},
   "outputs": [],
   "source": []
  }
 ],
 "metadata": {
  "kernelspec": {
   "display_name": "Python 3",
   "language": "python",
   "name": "python3"
  },
  "language_info": {
   "codemirror_mode": {
    "name": "ipython",
    "version": 3
   },
   "file_extension": ".py",
   "mimetype": "text/x-python",
   "name": "python",
   "nbconvert_exporter": "python",
   "pygments_lexer": "ipython3",
   "version": "3.8.5"
  }
 },
 "nbformat": 4,
 "nbformat_minor": 4
}
