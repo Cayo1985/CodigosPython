{
 "cells": [
  {
   "cell_type": "code",
   "execution_count": null,
   "metadata": {
    "scrolled": false
   },
   "outputs": [],
   "source": [
    "import pandas as pd\n",
    "\n",
    "clientes_df = pd.read_excel(#coloque o caminho do banco de dados ou excel aqui)\n",
    "display(clientes_df)"
   ]
  },
  {
   "cell_type": "code",
   "execution_count": 9,
   "metadata": {},
   "outputs": [],
   "source": [
    "import smtplib\n",
    "from email.mime.multipart import MIMEMultipart\n",
    "from email.mime.text import MIMEText\n",
    "from email.mime.base import MIMEBase\n",
    "from email import encoders\n",
    "\n",
    "def enviar_email():\n",
    "    for i, email in enumerate(clientes_df['E-MAIL']):\n",
    "        advogacia = clientes_df.loc[i, 'CLIENTE']\n",
    "        corpo_email = 'Escrever o e-mail aqui'.format()\n",
    "\n",
    "        msg = MIMEMultipart()\n",
    "        msg['Subject'] = # Assunto do e-mail\n",
    "        msg['From'] = #Seu e-mail\n",
    "        msg['to'] = email\n",
    "        password = #Senha do e-mail\n",
    "        msg.attach(MIMEText(corpo_email, 'plain'))\n",
    "\n",
    "\n",
    "\n",
    "        portfolio = #coloque o caminho onde está os dados.\n",
    "       \n",
    "\n",
    "        binary_portfolio = open(portfolio, 'rb')\n",
    "        binary_cartao = open(cartao_visita, 'rb')\n",
    "        payload = MIMEBase('application', 'pdf', Name = #nome do arquivo)\n",
    "        payload_2 = MIMEBase('application', 'pdf', Name = #nome do arquivo')\n",
    "        payload.set_payload((binary_portfolio.read()))\n",
    "        payload_2.set_payload((binary_cartao.read()))\n",
    "\n",
    "        encoders.encode_base64(payload)\n",
    "        encoders.encode_base64(payload_2)\n",
    "        payload.add_header('Content-Decomposition', 'attachment', filename = #arquivo)\n",
    "        msg.attach(payload)\n",
    "        payload_2.add_header('Content-Decomposition', 'attachment', filename = #arquivo)\n",
    "        msg.attach(payload_2)\n",
    "\n",
    "        s = smtplib.SMTP('smtp-mail.outlook.com: 587')                          \n",
    "        s.starttls()\n",
    "        s.login(msg['From'], password)\n",
    "        s.sendmail(msg['From'], [msg['To']], msg.as_string().encode('utf-8'))\n",
    "        s.quit()\n",
    "        print('E-mail enviado')"
   ]
  },
  {
   "cell_type": "code",
   "execution_count": 10,
   "metadata": {
    "scrolled": false
   },
   "outputs": [
    {
     "name": "stdout",
     "output_type": "stream",
     "text": [
      "E-mail enviado\n",
      "E-mail enviado\n",
      "E-mail enviado\n",
      "E-mail enviado\n",
      "E-mail enviado\n",
      "E-mail enviado\n",
      "E-mail enviado\n",
      "E-mail enviado\n",
      "E-mail enviado\n",
      "E-mail enviado\n"
     ]
    }
   ],
   "source": [
    "enviar_email()"
   ]
  },
  {
   "cell_type": "code",
   "execution_count": null,
   "metadata": {},
   "outputs": [],
   "source": []
  }
 ],
 "metadata": {
  "kernelspec": {
   "display_name": "Python 3",
   "language": "python",
   "name": "python3"
  },
  "language_info": {
   "codemirror_mode": {
    "name": "ipython",
    "version": 3
   },
   "file_extension": ".py",
   "mimetype": "text/x-python",
   "name": "python",
   "nbconvert_exporter": "python",
   "pygments_lexer": "ipython3",
   "version": "3.8.5"
  }
 },
 "nbformat": 4,
 "nbformat_minor": 4
}
